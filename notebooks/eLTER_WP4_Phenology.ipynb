{
 "cells": [
  {
   "cell_type": "code",
   "execution_count": 1,
   "id": "5418728d",
   "metadata": {
    "hide_input": false,
    "scrolled": false
   },
   "outputs": [
    {
     "data": {
      "application/vnd.jupyter.widget-view+json": {
       "model_id": "3b3a35bf710f460680cc9b5adfcf37c0",
       "version_major": 2,
       "version_minor": 0
      },
      "text/plain": [
       "Map(center=[20, 0], controls=(WidgetControl(options=['position', 'transparent_bg'], widget=HBox(children=(Togg…"
      ]
     },
     "metadata": {},
     "output_type": "display_data"
    }
   ],
   "source": [
    "import geemap\n",
    "Map = geemap.Map()\n",
    "Map"
   ]
  },
  {
   "cell_type": "markdown",
   "id": "ecc869c4",
   "metadata": {},
   "source": [
    "<p style=\"font-family: Arial; font-size:3em; color:#74c701;\"> Phenology Upload Data Form </p>"
   ]
  },
  {
   "cell_type": "markdown",
   "id": "f130fbb0",
   "metadata": {},
   "source": [
    "### Welcome to PhenoApp. From this form you can send us your phenological data in 2 ways:\n",
    "\n",
    "<ul>\n",
    "  <li>Uploading <a href=\"url\">this template </a>using the Upload data button</li>\n",
    "  <li>Filling the boxes for:</li>\n",
    "    <ol>\n",
    "      <li>Start of Season (SOS)</li>\n",
    "      <li>Max of Season (MOS)</li>\n",
    "      <li>End of Season (EOS)</li>\n",
    "    </ol>\n",
    "</ul>\n",
    "\n",
    "### We appreciatte your data and we kindly ask you that:\n",
    "\n",
    "   <ul>\n",
    "      <li>Data starts in 2017 (Sentinel 2 is our target dataset)</li>\n",
    "      <li>Phenometrics tabular data coming from phenocams or Webcams are welcome</li>\n",
    "      <li>Land Cover types should be according with Corine Land Cover classes <a href=\"https://land.copernicus.eu/user-corner/technical-library/corine-land-cover-nomenclature-guidelines/html\">CLC</a></li>\n",
    "   </ul>"
   ]
  },
  {
   "cell_type": "code",
   "execution_count": 2,
   "id": "fe49f740",
   "metadata": {
    "scrolled": false
   },
   "outputs": [
    {
     "data": {
      "application/vnd.jupyter.widget-view+json": {
       "model_id": "d9c6e56bee3345f89c4c1ad87f753832",
       "version_major": 2,
       "version_minor": 0
      },
      "text/plain": [
       "Text(value='', description='Collector Name', layout=Layout(padding='0px 0px 0px 0px', width='50%'), style=Desc…"
      ]
     },
     "metadata": {},
     "output_type": "display_data"
    },
    {
     "data": {
      "application/vnd.jupyter.widget-view+json": {
       "model_id": "449a73494ea5491684ab2a4306c76e84",
       "version_major": 2,
       "version_minor": 0
      },
      "text/plain": [
       "Text(value='', description='Collector Email', layout=Layout(padding='0px 0px 0px 0px', width='50%'), style=Des…"
      ]
     },
     "metadata": {},
     "output_type": "display_data"
    },
    {
     "data": {
      "application/vnd.jupyter.widget-view+json": {
       "model_id": "b4c40e2e58a340df91f706b76a3e22d6",
       "version_major": 2,
       "version_minor": 0
      },
      "text/plain": [
       "FloatText(value=37.8756, description='Insert Latitude Coordinate (decimal degrees):', layout=Layout(padding='0…"
      ]
     },
     "metadata": {},
     "output_type": "display_data"
    },
    {
     "data": {
      "application/vnd.jupyter.widget-view+json": {
       "model_id": "09cd23707e144bf3bef4e51da6f70d55",
       "version_major": 2,
       "version_minor": 0
      },
      "text/plain": [
       "FloatText(value=-6.8756, description='Insert Longitude Coordinate (decimal degrees):', layout=Layout(padding='…"
      ]
     },
     "metadata": {},
     "output_type": "display_data"
    },
    {
     "data": {
      "application/vnd.jupyter.widget-view+json": {
       "model_id": "17cbacd9a7b54d769d9ff8d7731e8811",
       "version_major": 2,
       "version_minor": 0
      },
      "text/plain": [
       "Text(value='', description='Specie', layout=Layout(padding='0px 0px 0px 0px', width='50%'), style=DescriptionS…"
      ]
     },
     "metadata": {},
     "output_type": "display_data"
    },
    {
     "data": {
      "application/vnd.jupyter.widget-view+json": {
       "model_id": "ee80c3fd13c74dde8911f68dddafc070",
       "version_major": 2,
       "version_minor": 0
      },
      "text/plain": [
       "Dropdown(description='Land Cover Type (Copernicus):', layout=Layout(padding='0px 0px 0px 0px', width='50%'), o…"
      ]
     },
     "metadata": {},
     "output_type": "display_data"
    },
    {
     "data": {
      "application/vnd.jupyter.widget-view+json": {
       "model_id": "a84f265b91a1407f9c5238dcc866549c",
       "version_major": 2,
       "version_minor": 0
      },
      "text/plain": [
       "Dropdown(description='eLTER Site:', layout=Layout(padding='0px 0px 0px 0px', width='50%'), options=('Baixo Sab…"
      ]
     },
     "metadata": {},
     "output_type": "display_data"
    },
    {
     "data": {
      "application/vnd.jupyter.widget-view+json": {
       "model_id": "b6f195ef13cd42b8a292b190fef876bd",
       "version_major": 2,
       "version_minor": 0
      },
      "text/plain": [
       "HBox(children=(Text(value='Upload a file with phenological info', description='Upload file'), FileUpload(value…"
      ]
     },
     "metadata": {},
     "output_type": "display_data"
    },
    {
     "data": {
      "application/vnd.jupyter.widget-view+json": {
       "model_id": "befa6d851e62490e878a1a672fadca11",
       "version_major": 2,
       "version_minor": 0
      },
      "text/plain": [
       "HBox(layout=Layout(align_items='stretch', border='solid green', flex_flow='column', width='50%'))"
      ]
     },
     "metadata": {},
     "output_type": "display_data"
    },
    {
     "data": {
      "application/vnd.jupyter.widget-view+json": {
       "model_id": "a932087e451148edb40d261aa8fb6425",
       "version_major": 2,
       "version_minor": 0
      },
      "text/plain": [
       "HTML(value='<img src=\"https://raw.githubusercontent.com/JavierLopatin/PhenoPY/1782ff13d2215cd9df23b7a27bc60cb0…"
      ]
     },
     "metadata": {},
     "output_type": "display_data"
    },
    {
     "data": {
      "application/vnd.jupyter.widget-view+json": {
       "model_id": "c9d000ee6db14fe6aefe7873caa2985a",
       "version_major": 2,
       "version_minor": 0
      },
      "text/plain": [
       "HBox(children=(IntSlider(value=2017, description='Year:', layout=Layout(width='320px'), max=2022, min=2001, re…"
      ]
     },
     "metadata": {},
     "output_type": "display_data"
    },
    {
     "data": {
      "application/vnd.jupyter.widget-view+json": {
       "model_id": "e8156764681149e5936f2c5cf2bc8c3b",
       "version_major": 2,
       "version_minor": 0
      },
      "text/plain": [
       "Tab(children=(HBox(children=(Text(value='', description='SOS', placeholder='Value (Day of the Year since 1st o…"
      ]
     },
     "metadata": {},
     "output_type": "display_data"
    },
    {
     "data": {
      "application/vnd.jupyter.widget-view+json": {
       "model_id": "a10bbf3a5a074e53a1d3eeb1b82e7a7c",
       "version_major": 2,
       "version_minor": 0
      },
      "text/plain": [
       "Textarea(value='', description='Comments:', placeholder='Type something', style=DescriptionStyle(description_w…"
      ]
     },
     "metadata": {},
     "output_type": "display_data"
    },
    {
     "data": {
      "application/vnd.jupyter.widget-view+json": {
       "model_id": "188ddea9c1ff4f0b9233e4793543e2ce",
       "version_major": 2,
       "version_minor": 0
      },
      "text/plain": [
       "Button(button_style='info', description='Send data', style=ButtonStyle())"
      ]
     },
     "metadata": {},
     "output_type": "display_data"
    }
   ],
   "source": [
    "import yagmail\n",
    "from ipywidgets import *\n",
    "from IPython.display import display\n",
    "\n",
    "\n",
    "#displaying the text widget\n",
    "text = widgets.Text(\n",
    "    description=\"Collector Name\", \n",
    "    layout=widgets.Layout(width='50%', padding=\"0px 0px 0px 0px\"),\n",
    "    flex_flow='column',\n",
    "    align_items='stretch', \n",
    "    style= {'description_width': 'initial'}\n",
    "    )\n",
    "display(text)\n",
    "textmail = widgets.Text(\n",
    "    description=\"Collector Email\", \n",
    "    layout=widgets.Layout(width='50%', padding=\"0px 0px 0px 0px\"),\n",
    "    flex_flow='column',\n",
    "    align_items='stretch', \n",
    "    style= {'description_width': 'initial'}\n",
    "    )\n",
    "display(textmail)\n",
    "\n",
    "\n",
    "float_Xtext = widgets.FloatText(\n",
    "        value=37.8756,\n",
    "        step=0.001,\n",
    "        description='Insert Latitude Coordinate (decimal degrees):',\n",
    "        layout=widgets.Layout(width='50%', padding=\"0px 0px 0px 0px\"),\n",
    "        flex_flow='column',\n",
    "        align_items='stretch', \n",
    "        style= {'description_width': 'initial'}\n",
    "        )\n",
    "display(float_Xtext)\n",
    "float_Ytext = widgets.FloatText(\n",
    "    value=-6.8756,\n",
    "    step=0.001,\n",
    "    description='Insert Longitude Coordinate (decimal degrees):',\n",
    "    layout=widgets.Layout(width='50%', padding=\"0px 0px 0px 0px\"),\n",
    "    flex_flow='column',\n",
    "    align_items='stretch', \n",
    "    style= {'description_width': 'initial'}\n",
    "    )\n",
    "display(float_Ytext)\n",
    "\n",
    "textspecies = widgets.Text(\n",
    "    description=\"Specie\", \n",
    "    layout=widgets.Layout(width='50%', padding=\"0px 0px 0px 0px\"),\n",
    "    flex_flow='column',\n",
    "    align_items='stretch', \n",
    "    style= {'description_width': 'initial'}\n",
    "    )\n",
    "display(textspecies)\n",
    "\n",
    "classes = ['1.4.1 Green urban areas', '2.1.1 Non-irrigated arable land', '2.1.2 Permanently irrigated land', '2.1.3 Rice fields', '2.1.3 Rice fields',\n",
    "          '2.2.1 Vineyards', '2.2.2 Fruit trees and berry plantations', '2.2.3 Olive groves', '2.3.1 Pastures', '2.4.1 Annual crops associated with permanent crops',\n",
    "          '2.4.2 Complex cultivation patterns', '2.4.3 Land principally occupied by agriculture, with significant areas of natural vegetation',\n",
    "          '2.4.4 Agro-forestry areas', '3.1.1 Broad-leaved forest', '3.1.2 Coniferous forest', '3.1.3 Mixed forest', '3.2.1 Natural grassland',\n",
    "          '3.2.2 Moors and heathland', '3.2.3 Sclerophyllous vegetation', '3.2.4 Transitional woodland/shrub']\n",
    "\n",
    "landcover = widgets.Dropdown(\n",
    "        options=[i for i in classes],\n",
    "        value=None,\n",
    "        description=\"Land Cover Type (Copernicus):\",\n",
    "        layout=widgets.Layout(width='50%', padding=\"0px 0px 0px 0px\"),\n",
    "        flex_flow='column',\n",
    "        align_items='stretch', \n",
    "        style= {'description_width': 'initial'}\n",
    "        )\n",
    "display(landcover)\n",
    "\n",
    "eLTER_SITES = ['Baixo Sabor LTER - Portugal', 'Donana Natural Space', 'River-Exe',\n",
    "               'Cairngorms', 'Veluwe', 'Gran Paradiso', 'Schorfheide', 'Neusiedler']\n",
    "\n",
    "site = widgets.Dropdown(\n",
    "        options=[i for i in eLTER_SITES],\n",
    "        value=None,\n",
    "        description=\"eLTER Site:\",\n",
    "        layout=widgets.Layout(width='50%', padding=\"0px 0px 0px 0px\"),\n",
    "        flex_flow='column',\n",
    "        align_items='stretch', \n",
    "        style= {'description_width': 'initial'}\n",
    "        )\n",
    "display(site)\n",
    "\n",
    "\n",
    "file = widgets.Text(description=\"Upload file\", value=\"Upload a file with phenological info\", width=150)\n",
    "upload = FileUpload(accept='.xlsx', multiple=False)\n",
    "\n",
    "a = widgets.HBox([file, upload])\n",
    "display(a)\n",
    "\n",
    "img = widgets.HTML(\n",
    "    value='<img src=\"https://raw.githubusercontent.com/JavierLopatin/PhenoPY/1782ff13d2215cd9df23b7a27bc60cb0ef7c0096/data/figure2.svg\" width=\"350\" height=\"250\">',\n",
    "    flex_flow='column',\n",
    "    align_items='center',\n",
    ")\n",
    "\n",
    "start_year = widgets.IntSlider(\n",
    "        description=\"Year:\",\n",
    "        value=2017,\n",
    "        min=2001,\n",
    "        max=2022,\n",
    "        readout=False,\n",
    "        layout=widgets.Layout(width=\"320px\"),\n",
    "        style= {'description_width': 'initial'})\n",
    "\n",
    "start_year_label = widgets.Label()\n",
    "widgets.jslink((start_year, \"value\"), (start_year_label, \"value\"))\n",
    "aa = widgets.HBox([start_year, start_year_label])\n",
    "\n",
    "\n",
    "\n",
    "\n",
    "# preparing a container to put in created checkbox per domain\n",
    "checkboxes = []\n",
    "cb_container = widgets.HBox(\n",
    "    layout=widgets.Layout(\n",
    "        width='50%', \n",
    "        border=\"solid green\",\n",
    "        flex_flow='column',\n",
    "        align_items='stretch', \n",
    "        style= {'description_width': 'initial'}))\n",
    "\n",
    "display(cb_container)\n",
    "\n",
    "\n",
    "def click1(h):\n",
    "    print('SOS value stored')\n",
    "\n",
    "def click2(h):\n",
    "    print('MOS value stored')\n",
    "    \n",
    "def click3(h):\n",
    "    print('EOS value stored')\n",
    "\n",
    "one = widgets.Button(description=\"Store\", button_style=\"primary\")\n",
    "one.on_click(click1)\n",
    "\n",
    "two = widgets.Button(description=\"Store\", button_style=\"warning\")\n",
    "two.on_click(click2)\n",
    "\n",
    "three = widgets.Button(description=\"Store\", button_style=\"success\")\n",
    "three.on_click(click3)\n",
    "\n",
    "btn = [one, two, three]\n",
    "lst = [\"SOS\", \"MOS\", \"EOS\"]\n",
    "\n",
    "list_widgets  = [\n",
    "    widgets.HBox([widgets.Text(\n",
    "        placeholder=\"Value (Day of the Year since 1st of january(DOY))\",\n",
    "        description=name,\n",
    "        disabled=False,\n",
    "        flex_flow='column',\n",
    "        align_items='stretch', \n",
    "        style= {'description_width': 'initial'}),\n",
    "        btn[num]]) for num, name in enumerate(lst)]\n",
    "\n",
    "children=list_widgets\n",
    "\n",
    "tab = widgets.Tab(children)\n",
    "[tab.set_title(num,name) for num, name in enumerate(lst)]\n",
    "\n",
    "display(img)\n",
    "\n",
    "display(aa)\n",
    "\n",
    "display(tab)\n",
    "\n",
    "\n",
    "comments = widgets.Textarea(\n",
    "    #value='Insert here any aditional comment',\n",
    "    placeholder='Type something',\n",
    "    description='Comments:',\n",
    "    disabled=False,\n",
    "    width='50%', \n",
    "    flex_flow='column',\n",
    "    align_items='stretch', \n",
    "    style= {'description_width': 'initial'})\n",
    "\n",
    "display(comments)\n",
    "\n",
    "# add button that updates the graph based on the checkboxes\n",
    "\n",
    "def clickbutton(h):\n",
    "    \n",
    "    textmail1 = 'Collector {} with email {} have upload some data for {} eLTER Site:'.format(text.value, textmail.value, site.value)\n",
    "    textmail2 = 'Specie: {} Year: {} SOS: {} MOS: {} EOS: {}'.format(textspecies.value, start_year.value, children[0].children[0].value, children[1].children[0].value, children[2].children[0].value)\n",
    "    textmail3 = textmail1, textmail2, comments.value, 'Attached file:', [i for i in upload.value.keys()][0]\n",
    "    \n",
    "    yag = yagmail.SMTP('digd.geografo@gmail.com', 'xxxxxxx')\n",
    "\n",
    "    yag = yagmail.SMTP()\n",
    "    contents = [\n",
    "        textmail3,\n",
    "        \"Attached file:\", [i for i in upload.value.keys()][0]\n",
    "    ]\n",
    "    #yag.send('digd.geografo@gmail.com', 'sended from PhenoApp', contents)\n",
    "    \n",
    "    print(textmail3)\n",
    "    print('Sending mail. Thank you!')\n",
    "    \n",
    "button = widgets.Button(description=\"Send data\", button_style=\"info\")\n",
    "button.on_click(clickbutton)\n",
    "display(button)"
   ]
  }
 ],
 "metadata": {
  "hide_input": false,
  "kernelspec": {
   "display_name": "Python 3 (ipykernel)",
   "language": "python",
   "name": "python3"
  },
  "language_info": {
   "codemirror_mode": {
    "name": "ipython",
    "version": 3
   },
   "file_extension": ".py",
   "mimetype": "text/x-python",
   "name": "python",
   "nbconvert_exporter": "python",
   "pygments_lexer": "ipython3",
   "version": "3.10.9"
  },
  "toc": {
   "base_numbering": 1,
   "nav_menu": {},
   "number_sections": true,
   "sideBar": true,
   "skip_h1_title": false,
   "title_cell": "Table of Contents",
   "title_sidebar": "Contents",
   "toc_cell": false,
   "toc_position": {},
   "toc_section_display": true,
   "toc_window_display": false
  }
 },
 "nbformat": 4,
 "nbformat_minor": 5
}
