{
 "cells": [
  {
   "cell_type": "code",
   "execution_count": null,
   "metadata": {
    "scrolled": false
   },
   "outputs": [],
   "source": [
    "import os\n",
    "import ee\n",
    "import geemap\n",
    "Map = geemap.Map()\n",
    "Map"
   ]
  },
  {
   "cell_type": "markdown",
   "metadata": {},
   "source": [
    "# Adding and cropping features"
   ]
  },
  {
   "cell_type": "code",
   "execution_count": null,
   "metadata": {},
   "outputs": [],
   "source": [
    "#Load eLTER sites\n",
    "sites = ee.FeatureCollection('projects/ee-digdgeografo/assets/elter_lyon')\n",
    "\n",
    "# Add Earth Engine dataset\n",
    "image = ee.Image('USGS/SRTMGL1_003')\n",
    "imageCrop = image.clip(sites)\n",
    "\n",
    "# Set visualization parameters.\n",
    "vis_params = {\n",
    "    'min': 0,\n",
    "    'max': 4000,\n",
    "    'palette': ['006633', 'E5FFCC', '662A00', 'D8D8D8', 'F5F5F5'],\n",
    "}\n",
    "\n",
    "# Add Earth Engine DEM to map\n",
    "Map.addLayer(imageCrop, vis_params, 'SRTM DEM')\n",
    "\n",
    "Map.addLayer(sites, {}, 'eLTER Sites')"
   ]
  },
  {
   "cell_type": "code",
   "execution_count": null,
   "metadata": {},
   "outputs": [],
   "source": [
    "Map.draw_features\n",
    "#Map.draw_last_feature"
   ]
  },
  {
   "cell_type": "code",
   "execution_count": null,
   "metadata": {},
   "outputs": [],
   "source": [
    "roi = ee.FeatureCollection(Map.draw_features)\n",
    "roi.geometry()\n",
    "\n",
    "FrenchImage = image.clip(roi.geometry())\n",
    "Map.addLayer(FrenchImage, vis_params, 'Cropped image')"
   ]
  },
  {
   "cell_type": "markdown",
   "metadata": {},
   "source": [
    "# Exporting results"
   ]
  },
  {
   "cell_type": "code",
   "execution_count": null,
   "metadata": {},
   "outputs": [],
   "source": [
    "out_dir = os.path.join(os.path.expanduser('~'), 'Downloads')\n",
    "filename = os.path.join(out_dir, 'SRTMLCaceres.tif')"
   ]
  },
  {
   "cell_type": "code",
   "execution_count": null,
   "metadata": {},
   "outputs": [],
   "source": [
    "geemap.ee_export_image(FrenchImage, filename=filename, scale=30, region=roi.geometry(), file_per_band=True)"
   ]
  },
  {
   "cell_type": "code",
   "execution_count": null,
   "metadata": {},
   "outputs": [],
   "source": [
    "#Make a feature and set some properties.\n",
    "feature = (\n",
    "    ee.Feature(ee.Geometry.Point([-6.52599, 37.17605]))\n",
    "    .set('Observer', 'Diego')\n",
    "    .set('email', 'digd.geografo@gmail.com')\n",
    ")\n",
    "\n",
    "# Overwrite the old properties with a new dictionary.\n",
    "newDict = {'Observer': 'Diego', 'presence': 1, 'email': 'diegogarcia@ebd.csic.es'}\n",
    "feature = feature.set(newDict)\n",
    "\n",
    "# Check the result.\n",
    "feature.getInfo()"
   ]
  },
  {
   "cell_type": "code",
   "execution_count": null,
   "metadata": {},
   "outputs": [],
   "source": [
    "Map.addLayer(feature)"
   ]
  },
  {
   "cell_type": "markdown",
   "metadata": {},
   "source": [
    "## Zonal Statistics"
   ]
  },
  {
   "cell_type": "code",
   "execution_count": null,
   "metadata": {},
   "outputs": [],
   "source": [
    "# Load some rasters data\n",
    "SOSD2017 = ee.Image(\"projects/ee-digdgeografo/assets/Donanaphpy_2017_SOSD\")\n",
    "MOSD2017 = ee.Image(\"projects/ee-digdgeografo/assets/Donanaphpy_2017_MAXD\")\n",
    "EOSD2017 = ee.Image(\"projects/ee-digdgeografo/assets/Donanaphpy_2017_EOSD\")\n",
    "\n",
    "phen2017 = ee.Image.cat([SOSD2017, MOSD2017, EOSD2017])"
   ]
  },
  {
   "cell_type": "code",
   "execution_count": null,
   "metadata": {},
   "outputs": [],
   "source": [
    "roi = ee.FeatureCollection(Map.draw_features)\n",
    "roi.geometry()"
   ]
  },
  {
   "cell_type": "code",
   "execution_count": null,
   "metadata": {},
   "outputs": [],
   "source": [
    "Map.addLayer(EOSD2017)"
   ]
  },
  {
   "cell_type": "code",
   "execution_count": null,
   "metadata": {},
   "outputs": [],
   "source": [
    "geemap.zonal_stats(\n",
    "    SOSD2017, roi, 'donana_eosd.csv', statistics_type='MEDIAN', scale=30\n",
    ")"
   ]
  },
  {
   "cell_type": "markdown",
   "metadata": {},
   "source": [
    "# Extract values to points"
   ]
  },
  {
   "cell_type": "code",
   "execution_count": null,
   "metadata": {},
   "outputs": [],
   "source": [
    "SOSD2017 = ee.Image(\"projects/ee-digdgeografo/assets/Donana_2017_SOSD\")\n",
    "SOSD2018 = ee.Image(\"projects/ee-digdgeografo/assets/Donana_2018_SOSD\")\n",
    "SOSD2019 = ee.Image(\"projects/ee-digdgeografo/assets/Donana_2019_SOSD\")\n",
    "SOSD2020 = ee.Image(\"projects/ee-digdgeografo/assets/Donana_2020_SOSD\")\n",
    "SOSD2021 = ee.Image(\"projects/ee-digdgeografo/assets/Donana_2021_SOSD\")\n",
    "\n",
    "years = [str(year) for year in range(2017, 2022)]\n",
    "\n",
    "images = ee.List([SOSD2017, SOSD2018, SOSD2019, SOSD2020, SOSD2021])\n",
    "collection = ee.ImageCollection.fromImages(images)"
   ]
  },
  {
   "cell_type": "code",
   "execution_count": null,
   "metadata": {},
   "outputs": [],
   "source": [
    "#shp = \"your/shape/here.shp\"\n",
    "#fc = geemap.shp_to_ee(shp)\n",
    "#Map.addLayer(fc, {}, 'Your shapefile')"
   ]
  },
  {
   "cell_type": "code",
   "execution_count": null,
   "metadata": {},
   "outputs": [],
   "source": [
    "# Points to shape\n",
    "out_shp = os.path.join(os.getcwd(), 'points.shp')\n",
    "geemap.extract_values_to_points(roi, phen2017, out_shp)"
   ]
  },
  {
   "cell_type": "code",
   "execution_count": null,
   "metadata": {},
   "outputs": [],
   "source": [
    "# Points to csv\n",
    "out_csv = os.path.join(os.getcwd(), 'points.csv')\n",
    "geemap.extract_values_to_points(roi, phen2017, out_csv)"
   ]
  },
  {
   "cell_type": "markdown",
   "metadata": {},
   "source": [
    "# Map slider"
   ]
  },
  {
   "cell_type": "code",
   "execution_count": null,
   "metadata": {},
   "outputs": [],
   "source": [
    "Map = geemap.Map()\n",
    "Map.add_basemap('HYBRID')\n",
    "\n",
    "esri = ee.ImageCollection(\n",
    "    'projects/sat-io/open-datasets/landcover/ESRI_Global-LULC_10m_TS'\n",
    ")\n",
    "\n",
    "esri_2017 = esri.filterDate('2017-01-01', '2017-12-31').mosaic()\n",
    "esri_2018 = esri.filterDate('2018-01-01', '2018-12-31').mosaic()\n",
    "esri_2019 = esri.filterDate('2019-01-01', '2019-12-31').mosaic()\n",
    "esri_2020 = esri.filterDate('2020-01-01', '2020-12-31').mosaic()\n",
    "esri_2021 = esri.filterDate('2021-01-01', '2021-12-31').mosaic()\n",
    "\n",
    "esri_vis = {'min': 1, 'max': 11, 'palette': 'esri_lulc'}\n",
    "sites = ee.FeatureCollection('projects/ee-digdgeografo/assets/elter_lyon')\n",
    "donana = sites.filter(ee.Filter.eq(\"layer\", 'Donana'))\n",
    "\n",
    "\n",
    "images = ee.List([esri_2017, esri_2018, esri_2019, esri_2020, esri_2021])\n",
    "collection = ee.ImageCollection.fromImages(images)\n",
    "clipped = collection.map(lambda image: image.clip(donana))\n",
    "\n",
    "Map.add_legend(title='ESRI Land Cover', builtin_legend='ESRI_LandCover_TS')\n",
    "Map\n",
    "\n",
    "Map = geemap.Map()\n",
    "Map.ts_inspector(clipped, years, esri_vis, width='80px')\n",
    "Map.add_legend(title='ESRI Land Cover', builtin_legend='ESRI_LandCover_TS')\n",
    "Map"
   ]
  },
  {
   "cell_type": "markdown",
   "metadata": {},
   "source": [
    "# Linked maps"
   ]
  },
  {
   "cell_type": "code",
   "execution_count": null,
   "metadata": {},
   "outputs": [],
   "source": [
    "SOSD2017 = ee.Image(\"projects/ee-digdgeografo/assets/Donana_2017_SOSD\")\n",
    "MOSD2017 = ee.Image(\"projects/ee-digdgeografo/assets/Donana_2017_MAXD\")\n",
    "EOSD2017 = ee.Image(\"projects/ee-digdgeografo/assets/Donana_2017_EOSD\")"
   ]
  },
  {
   "cell_type": "code",
   "execution_count": null,
   "metadata": {},
   "outputs": [],
   "source": [
    "palette = ['#54478C', '#2C699A', '#048BA8', '#EFEA5A', '#F1C453', '#F29E4C', '#d00000', \n",
    "                '#9d0208', '#B9E769', '#83E377', '#16DB93', '#0DB39E'] \n",
    "\n",
    "vis_params = [\n",
    "    {'min': 17000, 'max': 17365, 'palette': palette},\n",
    "    {'min': 17000, 'max': 17365, 'palette': palette},\n",
    "    {'min': 17000, 'max': 17365, 'palette': palette}]\n",
    "\n",
    "labels = ['SOS Doy 2017', 'MOS Doy 2017', 'EOS Doy 2017']"
   ]
  },
  {
   "cell_type": "code",
   "execution_count": null,
   "metadata": {},
   "outputs": [],
   "source": [
    "geemap.linked_maps(\n",
    "    rows=1,\n",
    "    cols=3,\n",
    "    height=\"400px\",\n",
    "    center=[37.7726, -6.1578],\n",
    "    zoom=9,\n",
    "    ee_objects=[SOSD2017, MOSD2017, EOSD2017],\n",
    "    vis_params=vis_params,\n",
    "    labels=labels,\n",
    "    label_position=\"topright\",\n",
    ")"
   ]
  },
  {
   "cell_type": "markdown",
   "metadata": {},
   "source": [
    "# Ndvi2Gif"
   ]
  },
  {
   "cell_type": "code",
   "execution_count": null,
   "metadata": {},
   "outputs": [],
   "source": [
    "import geemap\n",
    "from ndvi2gif import NdviSeasonality"
   ]
  },
  {
   "cell_type": "code",
   "execution_count": null,
   "metadata": {},
   "outputs": [],
   "source": [
    "Map = geemap.Map()\n",
    "Map.add_basemap('CartoDB.DarkMatter')\n",
    "Map"
   ]
  },
  {
   "cell_type": "code",
   "execution_count": null,
   "metadata": {},
   "outputs": [],
   "source": [
    "roi = Map.draw_last_feature\n",
    "print(roi.geometry().getInfo())"
   ]
  },
  {
   "cell_type": "code",
   "execution_count": null,
   "metadata": {},
   "outputs": [],
   "source": [
    "MyClass = NdviSeasonality(roi, 2016, 2019, 'Sentinel')"
   ]
  },
  {
   "cell_type": "code",
   "execution_count": null,
   "metadata": {},
   "outputs": [],
   "source": [
    "median = MyClass.get_year_composite().median()\n",
    "vizParams = {'bands': ['autumn', 'spring', 'summer'], 'min': 0.1, 'max': 0.85, 'gamma': [0.95, 1.1, 1]}\n",
    "Map.addLayer(median, vizParams, 'median')"
   ]
  },
  {
   "cell_type": "code",
   "execution_count": null,
   "metadata": {},
   "outputs": [],
   "source": [
    "wintermax = MyClass.get_year_composite().select('winter').max()\n",
    "Map.addLayer(wintermax, {'min': 0, 'max': 0.75}, 'winterMax')"
   ]
  },
  {
   "cell_type": "code",
   "execution_count": null,
   "metadata": {},
   "outputs": [],
   "source": [
    "MyClass.get_export()"
   ]
  },
  {
   "cell_type": "code",
   "execution_count": null,
   "metadata": {},
   "outputs": [],
   "source": []
  }
 ],
 "metadata": {
  "kernelspec": {
   "display_name": "Python 3",
   "language": "python",
   "name": "python3"
  },
  "language_info": {
   "codemirror_mode": {
    "name": "ipython",
    "version": 3
   },
   "file_extension": ".py",
   "mimetype": "text/x-python",
   "name": "python",
   "nbconvert_exporter": "python",
   "pygments_lexer": "ipython3",
   "version": "3.8.2"
  }
 },
 "nbformat": 4,
 "nbformat_minor": 4
}
